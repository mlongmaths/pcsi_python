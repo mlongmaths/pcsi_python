{
 "cells": [
  {
   "cell_type": "markdown",
   "id": "b827e4ae",
   "metadata": {},
   "source": [
    "# Matrices de pixels et images"
   ]
  },
  {
   "cell_type": "markdown",
   "id": "4f87f537",
   "metadata": {},
   "source": [
    "**But :** effectuer des manipulations sur les tableaux à deux dimensions. Les images en sont un exemple."
   ]
  },
  {
   "cell_type": "markdown",
   "id": "c653e3aa",
   "metadata": {},
   "source": [
    "On pourra utiliser les instructions suivantes : \n",
    "\n",
    "Pour importer le module dédié aux traitements d’images :"
   ]
  },
  {
   "cell_type": "markdown",
   "id": "a259f28f",
   "metadata": {},
   "source": [
    "```Python\n",
    "from PIL import Image\n",
    "```"
   ]
  },
  {
   "cell_type": "markdown",
   "id": "ae88bb61",
   "metadata": {},
   "source": [
    "Pour ouvrir un fichier `fichier_image` contenant une image :"
   ]
  },
  {
   "cell_type": "markdown",
   "id": "f4a58bb7",
   "metadata": {},
   "source": [
    "```Python\n",
    "image = Image.open(fichier_image)\n",
    "```"
   ]
  },
  {
   "cell_type": "markdown",
   "id": "f85dd9a4",
   "metadata": {},
   "source": [
    "Pour obtenir les dimensions de l’image :"
   ]
  },
  {
   "cell_type": "markdown",
   "id": "3495eea3",
   "metadata": {},
   "source": [
    "```Python\n",
    "(L,H) = image.size \n",
    "```"
   ]
  },
  {
   "cell_type": "markdown",
   "id": "d30bb3de",
   "metadata": {},
   "source": [
    "Pour créer une image de dimensions largeur$\\times$hauteur (fond blanc) : "
   ]
  },
  {
   "cell_type": "markdown",
   "id": "f0c40beb",
   "metadata": {},
   "source": [
    "```Python\n",
    "img = Image.new(\"RGB\", (largeur, hauteur), \"#FFFFFF\")\n",
    "```"
   ]
  },
  {
   "cell_type": "code",
   "execution_count": 1,
   "id": "4803ee54",
   "metadata": {},
   "outputs": [
    {
     "data": {
      "image/png": "[encoded data removed]",
      "text/plain": [
       "<PIL.Image.Image image mode=RGB size=255x255 at 0x7FD2B4462070>"
      ]
     },
     "metadata": {},
     "output_type": "display_data"
    }
   ],
   "source": [
    "from PIL import Image\n",
    "\n",
    "img = Image.new(\"RGB\", (255,255))\n",
    "\n",
    "for i in range(255):\n",
    "    for j in range(255):\n",
    "        img.putpixel((j, i), (j, 255-i, 0))\n",
    "img.show()"
   ]
  },
  {
   "cell_type": "markdown",
   "id": "5a01af03",
   "metadata": {},
   "source": [
    "Si on remplace `RGB` par `L`, on obtient une image en niveaux de gris. \n",
    "\n",
    "Pour obtenir un pixel de `image` et stocker sa valeur dans la variable p :"
   ]
  },
  {
   "cell_type": "markdown",
   "id": "a1b56b0a",
   "metadata": {},
   "source": [
    "```Python\n",
    "p = image.getpixel((j, i))\n",
    "# p est le triplet des composantes RGB\n",
    "```"
   ]
  },
  {
   "cell_type": "markdown",
   "id": "eb3e276e",
   "metadata": {},
   "source": [
    "avec `i` qui correspond à un indice selon un axe vertical (`i` varie de 0 à H-1) et j selon un axe horizontal (`j` varie de 0 à L-1)"
   ]
  },
  {
   "cell_type": "markdown",
   "id": "79960d4d",
   "metadata": {},
   "source": [
    "Pour changer la valeur d’un pixel :\n",
    "```Python\n",
    "img.putpixel((j, i), p)\n",
    "```\n",
    "\n",
    "Pour enregistrer `img` :\n",
    "```Python\n",
    "img.save(\"image_reduite.png\", \"png\")\n",
    "```\n",
    "\n",
    "Pour fermer le fichier image :\n",
    "```Python\n",
    "image.close()\n",
    "```"
   ]
  },
  {
   "cell_type": "markdown",
   "id": "96010785",
   "metadata": {},
   "source": [
    "## Algorithme de réduction \n",
    "\n",
    "<font size=\"5\">🐍</font> Ecrire une fonction `reduction(fichier_image, coeff)` qui prend en argument un nom de fichier (donc une chaîne de caractères) et un coefficient `coeff`, et qui crée une nouvelle image, réduite d’un facteur `coeff` par rapport à l’image en argument. "
   ]
  },
  {
   "cell_type": "code",
   "execution_count": 2,
   "id": "5a09e75c",
   "metadata": {
    "deletable": false,
    "nbgrader": {
     "cell_type": "code",
     "checksum": "cb7d7e4895add6eee2b9f09c5b0a595e",
     "grade": true,
     "grade_id": "cell-2434ed1ca7d8dbaa",
     "locked": false,
     "points": 0,
     "schema_version": 3,
     "solution": true,
     "task": false
    }
   },
   "outputs": [],
   "source": [
    "def reduction(fichier_image, coeff: int):\n",
    "    # On ouvre l'image d'origine\n",
    "    image = Image.open(fichier_image)\n",
    "\n",
    "    # On récupère ses dimensions\n",
    "    L, H = image.size\n",
    "\n",
    "    # On calcule les dimensions de l'image finale\n",
    "    largeur, hauteur = L//coeff, H//coeff\n",
    "\n",
    "    # On crée la nouvelle image\n",
    "    img = Image.new(\"RGB\", (largeur, hauteur))\n",
    "\n",
    "    # On la remplit...\n",
    "    for i in range(hauteur):\n",
    "        for j in range(largeur):\n",
    "            p = image.getpixel((j*coeff, i*coeff))\n",
    "            # On modifie le pixel (i,j)\n",
    "            img.putpixel((j, i), p)\n",
    "\n",
    "    # On l'enregistre\n",
    "    img.save(\"small_\"+fichier_image)"
   ]
  },
  {
   "cell_type": "code",
   "execution_count": 3,
   "id": "3f70655d",
   "metadata": {},
   "outputs": [],
   "source": [
    "reduction(\"snowman.jpg\", 5)"
   ]
  },
  {
   "cell_type": "markdown",
   "id": "3009d895",
   "metadata": {},
   "source": [
    "⮚ On obtient une image granuleuse. Pour éviter cet effet, on pourrait faire une moyenne des pixels d'un carré de taille `coeff`$\\times$`coeff`"
   ]
  },
  {
   "cell_type": "code",
   "execution_count": 4,
   "id": "468ab1ee",
   "metadata": {},
   "outputs": [],
   "source": [
    "def somme(L: list):\n",
    "    s = 0\n",
    "    for x in L:\n",
    "        s = s + x\n",
    "    return s\n",
    "\n",
    "\n",
    "def reduction(fichier_image, coeff: int):\n",
    "    # On ouvre l'image d'origine\n",
    "    image = Image.open(fichier_image)\n",
    "\n",
    "    # On récupère ses dimensions\n",
    "    L, H = image.size\n",
    "\n",
    "    # On calcule les dimensions de l'image finale\n",
    "    largeur, hauteur = L//coeff, H//coeff\n",
    "\n",
    "    # On crée la nouvelle image\n",
    "    img = Image.new(\"RGB\", (largeur, hauteur))\n",
    "\n",
    "    # On la remplit...\n",
    "    for i in range(hauteur):\n",
    "        for j in range(largeur):\n",
    "            # Construction par compréhension de la liste des pixels à moyenner\n",
    "            pixels = [image.getpixel((x, y)) for x in range(\n",
    "                j*coeff, (j+1)*coeff) for y in range(i*coeff, (i+1)*coeff)]\n",
    "            moy_rouge = somme([p[0] for p in pixels])//len(pixels)\n",
    "            moy_vert = somme([p[1] for p in pixels])//len(pixels)\n",
    "            moy_bleu = somme([p[2] for p in pixels])//len(pixels)\n",
    "            # On modifie le pixel (i,j)\n",
    "            img.putpixel((j, i), (moy_rouge, moy_vert, moy_bleu))\n",
    "\n",
    "    # On l'enregistre\n",
    "    img.save(\"small_bis_\"+fichier_image)"
   ]
  },
  {
   "cell_type": "code",
   "execution_count": 5,
   "id": "8bddf9e9",
   "metadata": {},
   "outputs": [],
   "source": [
    "reduction(\"squirrel.jpg\", 5)"
   ]
  },
  {
   "cell_type": "markdown",
   "id": "7f6bca09",
   "metadata": {},
   "source": [
    "## Algorithme de rotation \n",
    "\n",
    "On s’intéresse à une rotation autour du centre de l’image, d’un angle θ.\n",
    "\n",
    "<font size=\"5\">👩🏻‍💻</font> On considère un point A de coordonnées (x,0) et son image B par une rotation de centre O(0,0) et d’angle θ dans le sens direct. Exprimer les coordonnées de B en fonction de x et de θ. \n",
    "\n",
    "⮚ Les coordonnées de $B$ sont $(x\\cos(\\theta), x \\sin(\\theta))$.\n",
    "\n",
    "<font size=\"5\">👨🏾‍💻</font> On considère un point C de coordonnées (0,y) et son image D par une rotation de centre O(0,0) et d’angle θ dans le sens direct. Exprimer les coordonnées de D en fonction de y et de θ. \n",
    "\n",
    "⮚ Les coordonnées de $D$ sont $(-y \\sin(\\theta), y \\cos(\\theta))$.\n",
    "\n",
    "<font size=\"5\">👩🏻‍💻</font> On considère un point E de coordonnées (x,y) et son image F par une rotation de centre O(0,0) et d’angle θ dans le sens direct. Exprimer les coordonnées de F en fonction de x, y et θ. "
   ]
  },
  {
   "cell_type": "markdown",
   "id": "796158d4",
   "metadata": {},
   "source": [
    "⮚ Les coordonnées de $F$ sont $(x\\cos(\\theta) - y \\sin(\\theta), x \\sin(\\theta) + y \\cos(\\theta))$."
   ]
  },
  {
   "cell_type": "markdown",
   "id": "f7e4d942",
   "metadata": {},
   "source": [
    "<font size=\"5\">🐍</font> Écrire une fonction `rotation(fichier_image, theta)` qui prend en argument un nom de fichier (donc une chaîne de caractères) et un angle θ, et qui crée une image tournée d’un angle θ par rapport à l’image originale. "
   ]
  },
  {
   "cell_type": "code",
   "execution_count": 6,
   "id": "98233a99",
   "metadata": {
    "deletable": false,
    "nbgrader": {
     "cell_type": "code",
     "checksum": "3af2fa6ae2c03008b0f08e0e81e8ef06",
     "grade": true,
     "grade_id": "cell-1d3856189e7e6a3b",
     "locked": false,
     "points": 0,
     "schema_version": 3,
     "solution": true,
     "task": false
    }
   },
   "outputs": [],
   "source": [
    "import math as m\n",
    "\n",
    "def rotation_coordonnees(x, y, theta):\n",
    "    new_x = x*m.cos(theta) - y*m.sin(theta)\n",
    "    new_y = x*m.sin(theta) + y*m.cos(theta)\n",
    "    return int(new_x), int(new_y)"
   ]
  },
  {
   "cell_type": "code",
   "execution_count": 7,
   "id": "ff73cd37",
   "metadata": {},
   "outputs": [],
   "source": [
    "def rotation(fichier_image, theta):\n",
    "    image = Image.open(fichier_image)\n",
    "    L, H = image.size\n",
    "    \n",
    "    # On calcule les nouvelles coordonnées des coins\n",
    "    xO, yO = 0,0\n",
    "    xA, yA = rotation_coordonnees(L-1, 0, theta)\n",
    "    xB, yB = rotation_coordonnees(0, H-1, theta)\n",
    "    xC, yC = rotation_coordonnees(L-1, H-1, theta)\n",
    "    \n",
    "    x_min = min([xO, xA, xB, xC])\n",
    "    x_max = max([xO, xA, xB, xC])\n",
    "    \n",
    "    y_min = min([yO, yA, yB, yC])\n",
    "    y_max = max([yO, yA, yB, yC])\n",
    "    \n",
    "    largeur, hauteur = x_max - x_min + 1, y_max - y_min + 1\n",
    "    \n",
    "    img = Image.new(\"RGB\", (largeur, hauteur))\n",
    "\n",
    "    for i in range(H):\n",
    "        for j in range(L):\n",
    "            new_j, new_i = rotation_coordonnees(j,i, theta)\n",
    "            new_i, new_j = new_i-y_min, new_j-x_min\n",
    "            \n",
    "            p = image.getpixel((j, i))\n",
    "            # On modifie le pixel (i,j)\n",
    "            if new_j < largeur and new_i < hauteur:\n",
    "                img.putpixel((new_j, new_i), p)\n",
    "    \n",
    "    # On l'enregistre\n",
    "    img.save(\"rotation_\"+fichier_image)\n",
    "            "
   ]
  },
  {
   "cell_type": "code",
   "execution_count": 8,
   "id": "7fc8cf4e",
   "metadata": {},
   "outputs": [],
   "source": [
    "rotation(\"small_squirrel.png\",m.radians(150))"
   ]
  },
  {
   "cell_type": "markdown",
   "id": "c18a7cbb",
   "metadata": {},
   "source": [
    "⮚ On remarque que l'image obtenue comporte des pixels noirs dus aux arrondis sur les coordonnées après rotation. Pour éviter ce phénomène, on peut parcourir chaque pixel de l'image d'arrivée pour calculer le meilleur pixel à prendre en compte.\n",
    "\n",
    "On utilise le fait que la transformation inverse de la rotation de centre $O$ et d'angle de mesure $\\theta$ est la rotation de centre $O$ et d'angle de mesure $-\\theta$."
   ]
  },
  {
   "cell_type": "code",
   "execution_count": 9,
   "id": "da3729af",
   "metadata": {},
   "outputs": [],
   "source": [
    "def rotation(fichier_image, theta):\n",
    "    \n",
    "    image = Image.open(fichier_image)\n",
    "    (L, H) = image.size\n",
    "    xa, ya = rotation_coordonnees(L-1, 0, theta)\n",
    "    xb, yb = rotation_coordonnees(0, H-1, theta)\n",
    "    xc, yc = rotation_coordonnees(L-1, H-1, theta)\n",
    "    \n",
    "    x_max = max([0, xa, xb, xc])\n",
    "    x_min = min([0, xa, xb, xc])\n",
    "    \n",
    "    y_max = max([0, ya, yb, yc])\n",
    "    y_min = min([0, ya, yb, yc])\n",
    "\n",
    "    largeur, hauteur = x_max-x_min+1, y_max-y_min+1\n",
    "    img = Image.new(\"RGB\", (largeur, hauteur), \"#000000\")\n",
    "    \n",
    "    \n",
    "    for i in range(hauteur):\n",
    "        for j in range(largeur):\n",
    "            old_j, old_i = rotation_coordonnees(j + x_min,i + y_min, -theta)\n",
    "            \n",
    "            if old_j >= 0 and old_j < L and old_i >=0 and old_i < H:\n",
    "                p = image.getpixel((old_j,old_i))\n",
    "            \n",
    "                img.putpixel((j, i), p)\n",
    "            \n",
    "            \n",
    "    img.save(\"rotation_bis_\"+fichier_image)\n",
    "    image.close()"
   ]
  },
  {
   "cell_type": "code",
   "execution_count": 10,
   "id": "2a269764",
   "metadata": {},
   "outputs": [],
   "source": [
    "rotation(\"small_squirrel.png\",m.radians(150))"
   ]
  },
  {
   "cell_type": "markdown",
   "id": "08345149",
   "metadata": {},
   "source": [
    "## Convolution : détection de contours\n",
    "\n",
    "On veut modifier la valeur d’un pixel en prenant en compte les valeurs des pixels voisins, dans le but, par exemple, de détecter les contours. Par exemple :\n",
    "\n",
    "![Figure](TP07.jpg \"Figure\")\n",
    "\n",
    "Qu’en est-il pour un pixel appartenant à la bordure de l’image, car il n’a pas tous ses voisins ?\n",
    "\n",
    "La solution la plus simple est d’ignorer ces pixels : on balaye l’image de la deuxième ligne à l’avant-dernière, et pour chaque ligne, de la deuxième colonne à l’avant-dernière. Mais on peut aussi étendre l’image initiale en rajoutant une bordure d’un pixel sur laquelle on duplique les pixels voisins par exemple, ou ceux de la ligne ou colonne opposée. \n",
    "\n",
    "Pour une détection de contour, on choisit par exemple la matrice suivante : \n",
    "```Python\n",
    "[[-1,-1,-1],\n",
    "[-1,8,-1],\n",
    "[-1,-1,-1]]\n",
    "```\n",
    "\n",
    "Si tous les pixels autour d’un pixel donnés ont la même valeur, on obtient un résultat nul dans l’image qui a subi la convolution. Seuls les changements donnent un résultat non nul, ce qui est propice à la détection des contours. \n",
    "\n",
    "<font size=\"5\">🐍</font> Écrire une fonction `convolution_contour(fichier_image, matrice)` qui prend en argument un nom de fichier (donc une chaîne de caractères) et une matrice (donc une liste de sous-listes), et qui crée une image à laquelle on a appliqué la convolution correspondante.  "
   ]
  },
  {
   "cell_type": "code",
   "execution_count": null,
   "id": "dc56b311",
   "metadata": {
    "deletable": false,
    "nbgrader": {
     "cell_type": "code",
     "checksum": "36cecc68a1931cfa5e0766ebc2973bfb",
     "grade": true,
     "grade_id": "cell-4f1e3320bba78af7",
     "locked": false,
     "points": 0,
     "schema_version": 3,
     "solution": true,
     "task": false
    }
   },
   "outputs": [],
   "source": [
    "# À remplacer par votre code\n",
    "raise NotImplementedError()"
   ]
  },
  {
   "cell_type": "code",
   "execution_count": null,
   "id": "8d80f3fc",
   "metadata": {},
   "outputs": [],
   "source": [
    "convolution_contour(\"snowman.jpg\", [[-1,-1,-1],[-1,8,-1],[-1,-1,-1]])\n",
    "    "
   ]
  },
  {
   "cell_type": "code",
   "execution_count": null,
   "id": "d7d36aba",
   "metadata": {},
   "outputs": [],
   "source": []
  }
 ],
 "metadata": {
  "kernelspec": {
   "display_name": "Python 3 (ipykernel)",
   "language": "python",
   "name": "python3"
  },
  "language_info": {
   "codemirror_mode": {
    "name": "ipython",
    "version": 3
   },
   "file_extension": ".py",
   "mimetype": "text/x-python",
   "name": "python",
   "nbconvert_exporter": "python",
   "pygments_lexer": "ipython3",
   "version": "3.9.2"
  }
 },
 "nbformat": 4,
 "nbformat_minor": 5
}
